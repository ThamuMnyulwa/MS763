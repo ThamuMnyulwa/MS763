{
 "cells": [
  {
   "cell_type": "markdown",
   "metadata": {},
   "source": [
    "### Preamble"
   ]
  },
  {
   "cell_type": "code",
   "execution_count": 2,
   "metadata": {},
   "outputs": [],
   "source": [
    "import random\n",
    "import numpy as np\n",
    "import networkx as nx\n",
    "import matplotlib.pyplot as plt\n",
    "\n",
    "from scipy import linalg as la\n",
    "from scipy.stats import uniform, norm\n",
    "from math import isclose\n",
    "\n",
    "plt.rc('text', usetex=True)\n",
    "plt.rc('font', family='serif')"
   ]
  },
  {
   "cell_type": "markdown",
   "metadata": {},
   "source": [
    "### Helper functions"
   ]
  },
  {
   "cell_type": "code",
   "execution_count": 3,
   "metadata": {},
   "outputs": [],
   "source": [
    "## Helper fuunction for generating random stochastic matrices of arbuitrary size (buggy)\n",
    "def to_array(neighborhood):\n",
    "    arr = []\n",
    "    for v, k in neighborhood.items():\n",
    "        arr.append(v)\n",
    "    return arr\n",
    "\n",
    "def MCMC_PI(trials):\n",
    "    x, y = 0, 0\n",
    "    hits = 0\n",
    "    for i in range(int(trials)):\n",
    "        del_x, del_y = uniform.rvs(size=2, scale=2, loc=-1)\n",
    "        if abs(x + del_x) < 1.0 and abs(y + del_y) < 1.0:\n",
    "            x,y = x + del_x, y + del_y\n",
    "        if x**2 + y**2 < 1.0: hits += 1\n",
    "    return hits\n",
    "\n",
    "def matprint(mat, fmt=\"g\"):\n",
    "    col_maxes = [max([len((\"{:\"+fmt+\"}\").format(x)) for x in col]) for col in mat.T]\n",
    "    for x in mat:\n",
    "        for i, y in enumerate(x):\n",
    "            print((\"{:\"+str(col_maxes[i])+fmt+\"}\").format(y), end=\"  \")\n",
    "        print(\"\")"
   ]
  },
  {
   "cell_type": "markdown",
   "metadata": {},
   "source": [
    "## Q7"
   ]
  },
  {
   "cell_type": "markdown",
   "metadata": {},
   "source": [
    "###    1."
   ]
  },
  {
   "cell_type": "code",
   "execution_count": 4,
   "metadata": {},
   "outputs": [],
   "source": [
    "# generate a random stochastic of size n\n",
    "#n = 4\n",
    "#trans_mat = stoichastic_mat(n)\n",
    "\n",
    "# Two-state markov chain\n",
    "n = 2\n",
    "alpha = 0.20\n",
    "beta = 0.99\n",
    "trans_mat = np.array([[1.0 -alpha, alpha], [beta, 1.0 - beta]])"
   ]
  },
  {
   "cell_type": "code",
   "execution_count": 4,
   "metadata": {},
   "outputs": [
    {
     "name": "stdout",
     "output_type": "stream",
     "text": [
      " 0.8   0.2  \n",
      "0.99  0.01  \n"
     ]
    }
   ],
   "source": [
    "matprint(trans_mat)"
   ]
  },
  {
   "cell_type": "code",
   "execution_count": 5,
   "metadata": {},
   "outputs": [],
   "source": [
    "# checks for normalization\n",
    "for i in range(n):\n",
    "    assert(isclose(sum(trans_mat[i]), 1.0, rel_tol=1e-9))"
   ]
  },
  {
   "cell_type": "code",
   "execution_count": 49,
   "metadata": {},
   "outputs": [
    {
     "name": "stdout",
     "output_type": "stream",
     "text": [
      "[0.98019802 0.1980198 ]\n"
     ]
    }
   ],
   "source": [
    "# calculate eigenvalues\n",
    "w, vl, vr = la.eig(trans_mat, left=True)\n",
    "true_stat_dist = None\n",
    "tol = 1e-19\n",
    "for i in range(len(w)):\n",
    "    if isclose(w[i].imag, 0.0, rel_tol=tol) and isclose(w[i].real, 1.0, rel_tol=tol):\n",
    "        true_stat_dist = vl[:,i]\n",
    "        break\n",
    "# check if the stationary distribution is found\n",
    "\n",
    "truth_table = np.isclose(np.dot(true_stat_dist, trans_mat) - true_stat_dist, np.zeros((n,n)))\n",
    "\n",
    "for i in range(n):\n",
    "    assert(truth_table[i].all())\n",
    "print(true_stat_dist)"
   ]
  },
  {
   "cell_type": "markdown",
   "metadata": {},
   "source": [
    "### 2."
   ]
  },
  {
   "cell_type": "code",
   "execution_count": 50,
   "metadata": {},
   "outputs": [
    {
     "name": "stdout",
     "output_type": "stream",
     "text": [
      "[0.98024475 0.19778834]\n"
     ]
    }
   ],
   "source": [
    "L = 1e7\n",
    "nsteps = 100\n",
    "sample = np.zeros(int(L), dtype=\"int64\")\n",
    "for l in range(int(L)):\n",
    "    X = random.randint(0,1)\n",
    "    for i in range(nsteps):\n",
    "        if X == 0:\n",
    "            r = random.random()\n",
    "            if r >= trans_mat[0][0]:\n",
    "                X = 1\n",
    "        elif X == 1:\n",
    "            r = random.random()\n",
    "            if r < trans_mat[1][0]:\n",
    "                X = 0\n",
    "    sample[l] = X\n",
    "    \n",
    "est_stat_dist_1 = np.bincount(sample)\n",
    "est_stat_dist_1 = est_stat_dist_1 / la.norm(est_stat_dist_1)\n",
    "print(est_stat_dist_1)"
   ]
  },
  {
   "cell_type": "code",
   "execution_count": 78,
   "metadata": {},
   "outputs": [
    {
     "data": {
      "image/png": "[encoded data removed]",
      "text/plain": [
       "<Figure size 432x288 with 1 Axes>"
      ]
     },
     "metadata": {
      "needs_background": "light"
     },
     "output_type": "display_data"
    }
   ],
   "source": [
    "fig, ax = plt.subplots()\n",
    "weights = np.ones_like(sample) / len(sample)\n",
    "ax.hist(sample, bins=2, weights=weights, histtype='stepfilled', alpha=0.5)\n",
    "ax.set_ylabel(r'Relative frequencies')\n",
    "ax.set_xlabel(r'States')\n",
    "ax.set_title(r'Histogram of last of states of multiple 2-state birth-death markov chains')\n",
    "ax.set_xticks([0.25, 0.75])\n",
    "ax.set_xticklabels(['0', '1'])\n",
    "plt.show()"
   ]
  },
  {
   "cell_type": "markdown",
   "metadata": {},
   "source": [
    "### 3."
   ]
  },
  {
   "cell_type": "code",
   "execution_count": 7,
   "metadata": {},
   "outputs": [
    {
     "name": "stdout",
     "output_type": "stream",
     "text": [
      "[0.98025043 0.19776018]\n"
     ]
    }
   ],
   "source": [
    "nsteps = 1e7\n",
    "sample = np.zeros(int(nsteps), dtype=\"int64\")\n",
    "sample[0] = random.randint(0,1)\n",
    "for i in range(int(nsteps) - 1):\n",
    "    if sample[i] == 0:\n",
    "        r = random.random()\n",
    "        if r >= trans_mat[0][0]:\n",
    "            sample[i+1] = 1\n",
    "        else:\n",
    "            sample[i+1] = 0\n",
    "    elif sample[i] == 1:\n",
    "        r = random.random()\n",
    "        if r >= trans_mat[1][1]:\n",
    "            sample[i+1] = 0\n",
    "        else:\n",
    "            sample[i+1] = 1\n",
    "\n",
    "est_stat_dist_2 = np.bincount(sample)\n",
    "est_stat_dist_2 = est_stat_dist_2 / la.norm(est_stat_dist_2)\n",
    "print(est_stat_dist_2)"
   ]
  },
  {
   "cell_type": "markdown",
   "metadata": {},
   "source": [
    "#### Comparison"
   ]
  },
  {
   "cell_type": "code",
   "execution_count": 68,
   "metadata": {},
   "outputs": [],
   "source": [
    "assert(np.isclose(true_stat_dist, est_stat_dist_1, rtol=10e-3).all())\n",
    "assert(np.isclose(true_stat_dist, est_stat_dist_2, rtol=10e-4).all())"
   ]
  },
  {
   "cell_type": "markdown",
   "metadata": {},
   "source": [
    "The first numerical method agrees with the theoretical results up to an error tolerance of $10^{-3}$ while the second numerical method agrees with the theoreticl results up to an error tolerance of $10^{-4}$. The first numerical method a double for loop and has running time $\\mathcal{O}(Ln)$ whilst the second method has a running time $\\mathcal{O}(L)$ and still has results that more accurate. The second numerical method seems to be better than first method when we consider the running time and accuracy of results. "
   ]
  },
  {
   "cell_type": "markdown",
   "metadata": {},
   "source": [
    "## Q8"
   ]
  },
  {
   "cell_type": "code",
   "execution_count": 4,
   "metadata": {},
   "outputs": [],
   "source": [
    "nnodes = 10\n",
    "G = nx.erdos_renyi_graph(nnodes, .35)"
   ]
  },
  {
   "cell_type": "code",
   "execution_count": 5,
   "metadata": {},
   "outputs": [
    {
     "name": "stderr",
     "output_type": "stream",
     "text": [
      "/usr/lib/python3.7/site-packages/networkx/drawing/nx_pylab.py:579: MatplotlibDeprecationWarning: \n",
      "The iterable function was deprecated in Matplotlib 3.1 and will be removed in 3.3. Use np.iterable instead.\n",
      "  if not cb.iterable(width):\n"
     ]
    },
    {
     "data": {
      "image/png": "[encoded data removed]",
      "text/plain": [
       "<Figure size 432x288 with 1 Axes>"
      ]
     },
     "metadata": {},
     "output_type": "display_data"
    }
   ],
   "source": [
    "nx.draw(G, with_labels=True, font_weight='bold')\n",
    "plt.show()"
   ]
  },
  {
   "cell_type": "code",
   "execution_count": 6,
   "metadata": {},
   "outputs": [],
   "source": [
    "nsteps = 1000000\n",
    "nedges = G.number_of_edges()\n",
    "traj = [0]\n",
    "neighborhood = to_array(G.adj[traj[0]])\n",
    "for i in range(1, nsteps):\n",
    "    x = random.choice(neighborhood)\n",
    "    traj.append(x)\n",
    "    neighborhood = to_array(G.adj[traj[i]])"
   ]
  },
  {
   "cell_type": "code",
   "execution_count": 17,
   "metadata": {},
   "outputs": [
    {
     "data": {
      "image/png": "[encoded data removed]",
      "text/plain": [
       "<Figure size 432x288 with 1 Axes>"
      ]
     },
     "metadata": {
      "needs_background": "light"
     },
     "output_type": "display_data"
    }
   ],
   "source": [
    "est_dist = np.bincount(traj) / nsteps\n",
    "true_dist = [G.degree[i] / (2 * nedges) for i in range(nnodes)]\n",
    "labels = ['{}'.format(i) for i in range(nnodes)]\n",
    "x = np.arange(nnodes)  # the label locations\n",
    "width = 0.45 # the width of the bars\n",
    "\n",
    "fig, ax = plt.subplots()\n",
    "ax.bar(x - width/2, est_dist, width, label=r'Estimate', hatch=\"+\")\n",
    "ax.bar(x + width/2, true_dist, width, label=r'True')\n",
    "\n",
    "# Add some text for labels, title and custom x-axis tick labels, etc.\n",
    "ax.set_ylabel(r'Relative frequencies')\n",
    "ax.set_xlabel(r'Nodes')\n",
    "ax.set_title(r'Estimate and true stationary distribution for a RW on an undirected graph')\n",
    "ax.set_xticks(x)\n",
    "ax.set_xticklabels(labels)\n",
    "ax.legend()\n",
    "fig.tight_layout()\n",
    "plt.show()"
   ]
  },
  {
   "cell_type": "markdown",
   "metadata": {},
   "source": [
    "Very good agreement between estimate and theoretical results. As expected the nodes with a higher degree are visited more often."
   ]
  },
  {
   "cell_type": "markdown",
   "metadata": {},
   "source": [
    "## Q9"
   ]
  },
  {
   "cell_type": "markdown",
   "metadata": {},
   "source": [
    "### a. \n",
    "Since the above algorithm is the metropolis algorithm and acceptance ratio is based on whether the point generated is still in square or not.  The probability of being inside the square is uniform,\n",
    "$p(x,y \\in [-1,1]) = \\frac{1}{4}$ and since we reject points outside the square we take the probability of being outisde the square as zero. We can write $f(X_{n+1})$ as\n",
    "\n",
    "\\begin{align}\n",
    "f(X_{n+1}) = \\left\\{\n",
    "\\begin{array}{cc}\n",
    "1/4 & \\text{if } X_{n+1} \\text{is inside square} \\\\\n",
    "0   & \\text{otherwise}\n",
    "\\end{array}\\right.\n",
    "\\end{align}\n",
    "\n",
    "Since all the points $\\{P_i\\}_i^{L}$ fall in the square. The sample generated from this metropolis algorithm be distributed according to the target probability $f(X_i) = \\frac{1}{4} \\quad \\forall i$, which is uniformly distributed. "
   ]
  },
  {
   "cell_type": "markdown",
   "metadata": {},
   "source": [
    "### b."
   ]
  },
  {
   "cell_type": "code",
   "execution_count": 83,
   "metadata": {},
   "outputs": [],
   "source": [
    "nsteps = 6000\n",
    "sample = np.zeros(int(nsteps))\n",
    "for i in range(len(sample)):\n",
    "    sample[i] = 4.0 * MCMC_PI(i) / (i + 1)"
   ]
  },
  {
   "cell_type": "code",
   "execution_count": 87,
   "metadata": {},
   "outputs": [
    {
     "data": {
      "image/png": "[encoded data removed]",
      "text/plain": [
       "<Figure size 432x288 with 1 Axes>"
      ]
     },
     "metadata": {
      "needs_background": "light"
     },
     "output_type": "display_data"
    }
   ],
   "source": [
    "fig, ax = plt.subplots()\n",
    "x = np.arange(nsteps)\n",
    "ax.plot(x[0:nsteps:200], sample[0:nsteps:200], 'ko')\n",
    "ax.axhline(y=np.pi, color='r', lw=1)\n",
    "ax.set_xlabel(r'Runs')\n",
    "ax.set_ylabel(r'Estimate')\n",
    "ax.set_title(r'MCMC estimation of $\\pi$')\n",
    "plt.show()"
   ]
  },
  {
   "cell_type": "markdown",
   "metadata": {},
   "source": [
    "After only a 1000 runs, estimation is already very close to the true value of $\\pi$"
   ]
  },
  {
   "cell_type": "markdown",
   "metadata": {},
   "source": [
    "### c.\n",
    "No, we cannot construct error bars for estimator as seen in class. This is because the estimator that was seen in class has an assumption of independence between the sample of RVs, however for the above estimator the sample elements are dependent on one another, as we generate new samples based on the previous sample. More precisely the sample elements generated by the above estimator are correlated.\n",
    "\n",
    "Usually such estimator we have to run the algorithm for sufficiently long time (dictated by the correlation time), usually called the burn-in time. After such a time the correlation between the RVs are small enough to assume independence. "
   ]
  }
 ],
 "metadata": {
  "kernelspec": {
   "display_name": "Python 3",
   "language": "python",
   "name": "python3"
  },
  "language_info": {
   "codemirror_mode": {
    "name": "ipython",
    "version": 3
   },
   "file_extension": ".py",
   "mimetype": "text/x-python",
   "name": "python",
   "nbconvert_exporter": "python",
   "pygments_lexer": "ipython3",
   "version": "3.7.4"
  }
 },
 "nbformat": 4,
 "nbformat_minor": 2
}
